{
 "cells": [
  {
   "cell_type": "code",
   "execution_count": 1,
   "metadata": {},
   "outputs": [],
   "source": [
    "import matplotlib.pyplot as plt\n",
    "from sklearn.preprocessing import normalize\n",
    "import scipy.stats as stats\n",
    "import numpy as np\n",
    "import random\n",
    "import copy\n",
    "import pickle\n",
    "import os\n",
    "import sys\n",
    "from IPython.display import clear_output"
   ]
  },
  {
   "cell_type": "markdown",
   "metadata": {},
   "source": [
    "### Load data from path generation"
   ]
  },
  {
   "cell_type": "code",
   "execution_count": 3,
   "metadata": {},
   "outputs": [],
   "source": [
    "try:\n",
    "    from src.a_star import data  #note: MMWPF path must be added to enviornmental variables PYTHONPATH (see setup.py)\n",
    "    data_path = data.path()\n",
    "except:\n",
    "    data_path = os.path.join(\"./\", \"data\")\n",
    "    if not os.path.exists(data_path):\n",
    "        print('%s path does not exist, creating folder!' % data_path)\n",
    "\n",
    "#load first set of 100 observations\n",
    "fileName = 'exp_var3_100'\n",
    "infile = open(data_path + fileName,'rb')\n",
    "expl_dict = pickle.load(infile)\n",
    "infile.close()\n",
    "# load second set of 100 observations\n",
    "fileName = 'exp_var5_100'\n",
    "infile = open(data_path + fileName,'rb')\n",
    "tmp1 = pickle.load(infile)\n",
    "infile.close()\n",
    "\n",
    "expl_dict.extend(tmp1)\n",
    "\n",
    "fileName = 'beta3_100'\n",
    "infile = open(data_path + fileName,'rb')\n",
    "beta_dict = pickle.load(infile)\n",
    "infile.close()\n",
    "fileName = 'beta5_100'\n",
    "infile = open(data_path + fileName,'rb')\n",
    "tmp1 = pickle.load(infile)\n",
    "infile.close()\n",
    "\n",
    "beta_dict.extend(tmp1)\n",
    "\n",
    "# print(expl_dict[22])"
   ]
  },
  {
   "cell_type": "code",
   "execution_count": 4,
   "metadata": {},
   "outputs": [
    {
     "name": "stdout",
     "output_type": "stream",
     "text": [
      "200\n"
     ]
    }
   ],
   "source": [
    "'''Build explMatrix'''\n",
    "def BuildExplMatrix(expl_dict, beta_dict):\n",
    "    explMatrix = np.zeros((observations, numPaths, numBetas))\n",
    "    betaMatrix = np.zeros((observations, numPaths, numBetas))\n",
    "    i=0\n",
    "    for n in range(0, observations):\n",
    "        for j in range(0, numPaths): \n",
    "            # re-map pickle dictionaries\n",
    "            explMatrix[n][j][13] = expl_dict[i][0] #sK (x)\n",
    "            explMatrix[n][j][12] = expl_dict[i][1] #nK (x)\n",
    "            betaMatrix[n][j][12] = beta_dict[i][0] #sK (b)\n",
    "            betaMatrix[n][j][11] = beta_dict[i][1] #nK (b)\n",
    "\n",
    "            explMatrix[n][j][0] = expl_dict[i][2] #time_Car       (x)\n",
    "            explMatrix[n][j][1] = expl_dict[i][6] #discomfort_Car (x)\n",
    "            explMatrix[n][j][2] = expl_dict[i][10] #cost_Car      (x)\n",
    "            betaMatrix[n][j][0] = beta_dict[i][2] #time_Car       (b)\n",
    "            betaMatrix[n][j][1] = beta_dict[i][6] #discomfort_Car (b)\n",
    "            betaMatrix[n][j][2] = beta_dict[i][10] #cost_Car      (b)\n",
    "\n",
    "            explMatrix[n][j][3] = expl_dict[i][5] #time_Public       (x)\n",
    "            explMatrix[n][j][4] = expl_dict[i][9] #discomfort_Public (x)\n",
    "            explMatrix[n][j][5] = expl_dict[i][13] #cost_Public      (x)\n",
    "            betaMatrix[n][j][3] = beta_dict[i][5] #time_Public       (b)\n",
    "            betaMatrix[n][j][4] = beta_dict[i][9] #discomfort_Public (b)\n",
    "            betaMatrix[n][j][5] = beta_dict[i][13] #cost_Public      (b)\n",
    "\n",
    "            explMatrix[n][j][6] = expl_dict[i][3] #time_Bike         (x)\n",
    "            explMatrix[n][j][7] = expl_dict[i][7] #discomfort_Bike   (x)\n",
    "            explMatrix[n][j][8] = expl_dict[i][11] #cost_Bike        (x)\n",
    "            betaMatrix[n][j][6] = beta_dict[i][3] #time_Bike         (b)\n",
    "            betaMatrix[n][j][7] = beta_dict[i][7] #discomfort_Bike   (b)\n",
    "            betaMatrix[n][j][8] = beta_dict[i][11] #cost_Bike        (b)\n",
    "\n",
    "            explMatrix[n][j][9] = expl_dict[i][4] #time_Walk         (x)\n",
    "            explMatrix[n][j][10] = expl_dict[i][8] #discomfort_Walk  (x)\n",
    "            explMatrix[n][j][11] = expl_dict[i][12] #cost_Walk       (x)\n",
    "            betaMatrix[n][j][9] = beta_dict[i][4] #time_Walk         (b)\n",
    "            betaMatrix[n][j][10] = beta_dict[i][8] #discomfort_Walk  (b)\n",
    "            betaMatrix[n][j][11] = beta_dict[i][12] #cost_Walk       (b)\n",
    "\n",
    "            i = i+1\n",
    "    return explMatrix, betaMatrix\n",
    "            \n",
    "numPaths = 4\n",
    "numBetas = 14\n",
    "observations = int(len(expl_dict)/numPaths) #get number of observations from pickle dictionary\n",
    "explMatrix, betaMatrix = BuildExplMatrix(expl_dict, beta_dict)\n",
    "\n",
    "print(observations)"
   ]
  },
  {
   "cell_type": "markdown",
   "metadata": {},
   "source": [
    "### Generate True User Betas"
   ]
  },
  {
   "cell_type": "code",
   "execution_count": 5,
   "metadata": {},
   "outputs": [
    {
     "data": {
      "image/png": "[encoded data removed]",
      "text/plain": [
       "<Figure size 576x288 with 1 Axes>"
      ]
     },
     "metadata": {
      "needs_background": "light"
     },
     "output_type": "display_data"
    }
   ],
   "source": [
    "'''Generate True User Betas'''\n",
    "plt.rcParams['figure.figsize'] = [8, 4] #normal figure size\n",
    "\n",
    "np.random.seed(52) #<- fixed seed\n",
    "betaList = np.random.randint(1, 100000, numBetas)\n",
    "betaList = np.divide(betaList,np.sum(betaList))\n",
    "\n",
    "np.random.seed(3) #<- fixed seed\n",
    "betaList = np.power(betaList, np.random.randint(1, 8)) #enhances variation\n",
    "\n",
    "userBetaList = np.divide(betaList,np.sum(betaList)) #normalize betas from 0 to 1\n",
    "\n",
    "plt.figure(1)\n",
    "plt.bar(list(range(0, numBetas)), userBetaList)\n",
    "plt.xlim(0, numBetas)\n",
    "plt.ylim(0, 0.4)\n",
    "plt.xlabel('User Beta-Parameters');"
   ]
  },
  {
   "cell_type": "markdown",
   "metadata": {},
   "source": [
    "### Estimate Scale Factor"
   ]
  },
  {
   "cell_type": "code",
   "execution_count": 7,
   "metadata": {},
   "outputs": [],
   "source": [
    "def EstimateScaleFactor(X):\n",
    "    numIter = 1000\n",
    "    rnd_gen_base = 5\n",
    "    rnd_seeds = [i*rnd_gen_base for i in range(0, numIter)]\n",
    "\n",
    "    utilityVarList = []\n",
    "    for i in range(0, numIter):\n",
    "        #generate random \"true user\" betas at each iteration (simulates various users using this model)\n",
    "        np.random.seed(rnd_seeds[i])\n",
    "        betaList = np.random.randint(1, 100000, numBetas)\n",
    "        betaList = np.divide(betaList,np.sum(betaList))\n",
    "        betaList = np.power(betaList, np.random.randint(1,8)) #enhances variation\n",
    "\n",
    "        randUserBetaList = np.divide(betaList,np.sum(betaList)) #normalize betas from 0 to 1\n",
    "\n",
    "        for n in range(0, observations):\n",
    "            utilityList = []\n",
    "            for j in range(0, numPaths):\n",
    "                utilityList.append(np.matmul(X[n][j], randUserBetaList))\n",
    "            utilityVarList.append(np.var(utilityList)) #store the varience of the utilities in observation n\n",
    "\n",
    "    utilityAvgVar = np.average(utilityVarList)\n",
    "    scaleFactor = np.sqrt((np.square(np.pi)/6)/utilityAvgVar) \n",
    "    print('Average Utility Variance: %.6f ' % utilityAvgVar)\n",
    "    print('Scale Factor: %.4f ' % scaleFactor)\n",
    "    \n",
    "    return scaleFactor"
   ]
  },
  {
   "cell_type": "markdown",
   "metadata": {},
   "source": [
    "### Choice Filtering Functions"
   ]
  },
  {
   "cell_type": "code",
   "execution_count": 8,
   "metadata": {},
   "outputs": [],
   "source": [
    "''' check probabilities '''\n",
    "def GetProbability(B, X):\n",
    "    C_n = list(np.matmul(X, np.transpose(B))) #matrix multiply path costs with the user betas to get choice set of utilities\n",
    "    V_nk = max(C_n) #chosen alternative utility\n",
    "    choice_k = C_n.index(max(C_n)) #chosen alternative index\n",
    "    P_nk = np.divide(np.exp(V_nk), np.sum(np.exp(C_n))) #choice probabilty\n",
    "#     print(P_nk)\n",
    "    return P_nk\n",
    "\n",
    "def CheckProbability(B, X, probThresh):\n",
    "    C_n = list(np.matmul(X, np.transpose(B))) #matrix multiply path costs with the user betas to get choice set of utilities\n",
    "    V_nk = max(C_n) #chosen alternative utility\n",
    "    choice_k = C_n.index(max(C_n)) #chosen alternative index\n",
    "    P_nk = np.divide(np.exp(V_nk), np.sum(np.exp(C_n))) #choice probabilty\n",
    "    if P_nk <= probThresh:\n",
    "        return False\n",
    "    else:\n",
    "        return True\n",
    "    \n",
    "def FilterChoicesProb(B, X, obsTarget):\n",
    "    if obsTarget > observations:\n",
    "        print('target number of observations is greater than len(explMatrix)')\n",
    "        sys.exit()\n",
    "    probList = []\n",
    "    for n in range(0, observations):\n",
    "        probList.append(GetProbability(B, X[n]))\n",
    "\n",
    "    probThresh = 0.25\n",
    "    stepSize = 0.025\n",
    "    numObs = len(probList)\n",
    "    while numObs != obsTarget:\n",
    "        numObs = np.sum(np.array(probList) >= probThresh)\n",
    "#         print(numObs)\n",
    "        if numObs == obsTarget:\n",
    "            break\n",
    "        elif numObs > obsTarget:\n",
    "            probThresh = probThresh + stepSize\n",
    "        else:\n",
    "            probThresh = probThresh - stepSize\n",
    "            stepSize = stepSize/2.0\n",
    "    print('numObs: %d\\t probThresh: %.8f' %(numObs, probThresh))\n",
    "\n",
    "    xTmp = []\n",
    "    for n in range(0, observations):\n",
    "        try:\n",
    "            keep = CheckProbability(B, X[n], probThresh)\n",
    "            if keep:\n",
    "                xTmp.append(X[n])\n",
    "        except:\n",
    "            pass\n",
    "        \n",
    "    return xTmp\n",
    "\n",
    "def FilterChoicesRand(X, obsTarget, seed=33):\n",
    "    np.random.seed(seed)\n",
    "    randomDrawList = np.sort(np.random.choice(range(0, observations), size=obsTarget, replace=False))\n",
    "\n",
    "    print('numObs: %d' %(len(randomDrawList)))\n",
    "    xTmp = []\n",
    "    for n in range(0, obsTarget):\n",
    "        xTmp.append(X[n])  \n",
    "        \n",
    "    return xTmp"
   ]
  },
  {
   "cell_type": "markdown",
   "metadata": {},
   "source": [
    "### Newton-Raphson Functions"
   ]
  },
  {
   "cell_type": "code",
   "execution_count": 9,
   "metadata": {},
   "outputs": [],
   "source": [
    "def ConvergenceCriteria(b_vec, b_vec_prev, ll_prime, ll_hessian, error2):\n",
    "    e1, e2, e3 = False, False, False\n",
    "    # convergence criteria from \"Discrete Choice Analysis Theory and Application to Travel Demand\" pg.82\n",
    "    b_e1 = np.sqrt(np.sum(np.square(np.subtract(b_vec, b_vec_prev)))/len(b_vec))\n",
    "    if b_e1 < 0.0001: #recomendation is 10e-4\n",
    "        e1 = True\n",
    "    \n",
    "    b_e2 = []\n",
    "    for b in range(0, len(b_vec)):\n",
    "        # convergence criteria from \"Discrete Choice Analysis Theory and Application to Travel Demand\" pg.83\n",
    "        b_e2.append(np.divide(abs(np.subtract(b_vec[b], b_vec_prev[b])), abs(b_vec_prev[b])))\n",
    "        if b_e2[b] < error2: #recomendation is 10e-2\n",
    "            e2 = True #all b_e2 must be < 0.1\n",
    "        else:\n",
    "            e2 = False\n",
    "            break #only one b_e2 > 0.1 breaks for-loop \n",
    "            \n",
    "    b_e3 = []\n",
    "    for b in range(0, len(b_vec)):\n",
    "        # convergence criteria from \"Discrete Choice Methods with Simulation\" pg.202\n",
    "        b_e3.append(abs(np.sum([ll_prime[bb]*(-1.0 / ll_hessian[b]) for bb in range(0, numBetas)])*ll_prime[b]))\n",
    "        if b_e3[b] < 10e-5:\n",
    "            e3 = True #all b_e3 must be < 0.0001\n",
    "        else:\n",
    "            e3 = False\n",
    "            break #only one b_e3 > 0.0001 breaks for-loop \n",
    "            \n",
    "    clear_output(wait=True)    \n",
    "    if e1 == True or e2 == True or e3 == True:\n",
    "        print('e1: %r' % e1)\n",
    "        print('e2: %r' % e2)\n",
    "        print('e3: %r' % e3)\n",
    "        converged = True\n",
    "    else:\n",
    "        converged = False\n",
    "        \n",
    "    if np.average(np.abs(ll_prime)) < 0.0001:\n",
    "        print('F.O.C average LL ~= 0')\n",
    "        if i > 4:\n",
    "            converged = True\n",
    "        \n",
    "    return converged, b_e1, b_e2, b_e3\n",
    "\n",
    "def GetChoiceSet(X, B):\n",
    "    Y_nk = []\n",
    "    C_n = []\n",
    "    betaLearned = []\n",
    "    for n in range(0, observations): #for n observations build Choice Set and collect choices\n",
    "\n",
    "        #matrix multiply path explanitory variables with the user betas to get a choice set of utilities\n",
    "        C_n.append(list(np.matmul(X[n], np.transpose(B)))) \n",
    "\n",
    "        #pick path with max utility for each observation n and save the index of that choice\n",
    "        Y_nk.append(C_n[n].index(max(C_n[n])))  \n",
    "        \n",
    "    return Y_nk\n",
    "\n",
    "def NewtonRaphson(X, Y_nk, e2=0.1):\n",
    "    \n",
    "    plt.rcParams['figure.figsize'] = [8, 6]\n",
    "    logging = False   \n",
    "\n",
    "    b_vec = np.zeros(numBetas)\n",
    "    b_vec_prev = np.ones(numBetas)\n",
    "    ll_prime = np.ones(numBetas)\n",
    "    ll_hessian = np.ones(numBetas)\n",
    "    ll_prev = -99999999 #set to really small for first iteration\n",
    "    forceQuit = False\n",
    "\n",
    "    for i in range(0, 500):\n",
    "\n",
    "        stepSize = 1.0\n",
    "        x_n_b = np.zeros((observations, numBetas))\n",
    "        f_n_b = np.zeros((observations, numBetas))\n",
    "        h_n_b = np.zeros((observations, numBetas))\n",
    "\n",
    "        # before continuing with the next iteration, confirm that the new ll value has increased\n",
    "        while stepSize > 0.0001220703125:\n",
    "            v_n_j = np.zeros((observations, numPaths))\n",
    "            g_n = []\n",
    "            ll_n = []\n",
    "            for n in range(0, observations): #for n observations\n",
    "\n",
    "                #1st partial derivative denominator: e^B'*X_n,j\n",
    "                v_n_j[n] = [np.matmul(X[n][j], b_vec) for j in range(0, numPaths)]\n",
    "                g_n.append(np.sum([np.exp(v_n_j[n][j]) for j in range(0, numPaths)]))\n",
    "\n",
    "                #log likelihood \n",
    "                ll_n.append(np.log(np.exp(np.matmul(X[n][Y_nk[n]], b_vec)) / g_n[n]))\n",
    "\n",
    "            ll = np.sum(ll_n)\n",
    "\n",
    "            #if log likelihood has overshot maximum, then reduce step size and recaculate b_vec\n",
    "            if ll < ll_prev:\n",
    "                stepSize = stepSize/2.0\n",
    "                # get a new b_vec with reduced stepSize\n",
    "                for b in range(0, numBetas):\n",
    "                    b_vec[b] = b_vec_prev[b] - (stepSize*(ll_prime[b]/ll_hessian[b])) \n",
    "                    #print('Beta_%d: %.6f\\t Prev: %.6f\\t  LL: %.6f\\t LL_prime: %.6f\\t Hessian: %.6f' % (b, b_vec[b], b_vec_prev[b], ll, ll_prime[b], ll_hessian[b]))\n",
    "                if stepSize < 0.0001220703125:   \n",
    "                    print('stepSize too Small!!!')\n",
    "                    forceQuit = True\n",
    "            else:\n",
    "                break\n",
    "\n",
    "        converged, b_e1, b_e2, b_e3 = ConvergenceCriteria(b_vec, b_vec_prev, ll_prime, ll_hessian, e2) \n",
    "        \n",
    "        if logging == False:\n",
    "            \n",
    "            print('Iteration: %d\\t LL: %.4f\\t LL_prime_avg: %.4f\\t Hessian_avg: %.4f\\t\\n' \\\n",
    "                  'e1: %.8f\\t #e2: %d\\t e3_avg: %.8f' % (i, ll, np.average(ll_prime), np.average(ll_hessian), \n",
    "                                                     b_e1, (numBetas-len(b_e2)), np.average(b_e3)))\n",
    "            betaLearnedList = []\n",
    "            for b in range(0, numBetas):\n",
    "                betaLearnedList.append(np.exp(b_vec[b]/1))\n",
    "\n",
    "            betaLearnedList = np.divide(betaLearnedList,np.sum(betaLearnedList))   \n",
    "\n",
    "            plt.figure(1)    \n",
    "            plt.bar(list(range(0, numBetas)), betaLearnedList, alpha=1.0, color='b', label='learned betas')\n",
    "            plt.bar(list(range(0, numBetas)), userBetaList, alpha=0.5, width=0.5, color='r', label='user betas')\n",
    "            plt.xlim(0, numBetas)\n",
    "            plt.ylim(0, 0.5)\n",
    "            plt.xlabel('Beta-Parameters')\n",
    "            plt.legend(loc=\"upper right\")\n",
    "            plt.show()\n",
    "            \n",
    "        if converged or forceQuit: #if one of the convergence criteria tests is satisfied\n",
    "            for b in range(0, numBetas):\n",
    "                print('Beta_%d: %.6f\\t LL: %.6f\\t LL_prime: %.6f\\t Hessian: %.6f' % \n",
    "                                      (b, b_vec[b], ll, ll_prime[b], ll_hessian[b]))\n",
    "            break\n",
    "\n",
    "        ll_prev = ll #save previous log likelihood value to compare in the next iteration. ll must always increase during each iteration\n",
    "\n",
    "        for n in range(0, observations): #for n observations    \n",
    "            # iterate through the beta vector to find partial for each beta\n",
    "            for b in range(0, numBetas):\n",
    "                #1st partial derivative of dVn,k/dB0 in observation n\n",
    "                x_n_b[n][b] = X[n][Y_nk[n]][b]\n",
    "\n",
    "                #1st partial derivative numerator: x_n,j,b_idx * e^V_n,j  note: path choice i not relevant here\n",
    "                f_n_b[n][b] = np.sum([X[n][j][b]*np.exp(v_n_j[n][j]) for j in range(0, numPaths)])\n",
    "\n",
    "                #2nd partial derivative of beta b (f_prime*g - g_prime*f) / g^2\n",
    "                f_prime_g = []\n",
    "                g_prime_f = []\n",
    "                for j in range(0, numPaths):\n",
    "                    xfg = np.square(X[n][j][b]) #f_prime leading constants\n",
    "                    for jj in range(0, numPaths):\n",
    "                        xgf = X[n][j][b]*X[n][jj][b]\n",
    "                        x_vec = []\n",
    "                        for bb in range(0, numBetas):\n",
    "                            #generate (x + x) vector\n",
    "                            x_vec.append(X[n][j][bb]+X[n][jj][bb])\n",
    "\n",
    "                        v_x_vec = np.matmul(x_vec, b_vec)    \n",
    "                        f_prime_g.append(xfg*np.exp(v_x_vec))\n",
    "                        g_prime_f.append(xgf*np.exp(v_x_vec))\n",
    "\n",
    "                h_n_b[n][b] = 0.0 - ((np.sum(f_prime_g) - np.sum(g_prime_f)) / np.square(g_n[n]))\n",
    "\n",
    "        b_vec_prev = b_vec.copy() #need to deep copy array here\n",
    "        ll_prime = np.zeros(numBetas)\n",
    "        ll_hessian = np.zeros(numBetas)\n",
    "        stepSize = 1.0 #reset stepSize = 1.0\n",
    "        for b in range(0, numBetas):\n",
    "            for n in range(0, observations):\n",
    "                ll_prime[b] = ll_prime[b] + (x_n_b[n][b] - (f_n_b[n][b] / g_n[n]))\n",
    "                ll_hessian[b] = ll_hessian[b] + h_n_b[n][b]\n",
    "\n",
    "            b_vec[b] = b_vec_prev[b] - (stepSize*(ll_prime[b]/ll_hessian[b]))\n",
    "            if logging:\n",
    "                print('Beta_%d: %.6f\\t LL: %.6f\\t LL_prime: %.6f\\t Hessian: %.6f' % \n",
    "                                      (b, b_vec[b], ll, ll_prime[b], ll_hessian[b]))\n",
    "\n",
    "    return b_vec\n"
   ]
  },
  {
   "cell_type": "markdown",
   "metadata": {},
   "source": [
    "### Post Newton-Raphson Functions"
   ]
  },
  {
   "cell_type": "code",
   "execution_count": 10,
   "metadata": {},
   "outputs": [],
   "source": [
    "''' get and plot learned betas'''\n",
    "def PlotBetaComparison(B, label, yAxis=0.8, saveFig=False, title='figure'):\n",
    "    plt.rcParams['figure.figsize'] = [8, 6] #bigger figure size\n",
    "    fig = plt.figure(1)    \n",
    "    plt.bar(list(range(0, numBetas)), B, alpha=1.0, color='b', label=label)\n",
    "    plt.bar(list(range(0, numBetas)), userBetaList, alpha=0.5, width=0.5, color='r', label='user betas')\n",
    "    plt.xlim(0, numBetas)\n",
    "    plt.ylim(0, yAxis)\n",
    "    plt.title(title, fontsize=18)\n",
    "    plt.xlabel('Beta-Parameters', fontsize=18)\n",
    "    plt.ylabel('Averseness  e^(β)', fontsize=18)\n",
    "    plt.legend(loc=\"upper right\",fontsize=18)\n",
    "    plt.show()\n",
    "    if saveFig:\n",
    "        fig_path = os.path.join(\"./\", \"fig/\")\n",
    "        if not os.path.exists(fig_path):\n",
    "            print('%s path does not exist, creating folder!' % fig_path)\n",
    "            os.makedirs(fig_path)\n",
    "        fig.savefig(fig_path + title + '.png', dpi=100)\n",
    "    \n",
    "def GetLearnedBetas(b_vec, yAxis=0.5, saveFig=False, title='figure'):\n",
    "    betaLearnedList = []\n",
    "    for b in range(0, numBetas):\n",
    "        betaLearnedList.append(np.exp(b_vec[b]))\n",
    "    betaLearnedList = np.divide(betaLearnedList,np.sum(betaLearnedList))  \n",
    "\n",
    "    betaError = []\n",
    "    for b in range(0, numBetas):\n",
    "        betaError.append(abs(userBetaList[b] - betaLearnedList[b]))\n",
    "\n",
    "    print('mean abs error: %.4f' % round(np.average(betaError),8))\n",
    "    \n",
    "    PlotBetaComparison(betaLearnedList, 'learned betas', yAxis=yAxis, saveFig=saveFig, title=title)\n",
    "    \n",
    "    return betaLearnedList\n",
    "\n",
    "''' compare choice outcomes '''\n",
    "def CompareChoiceOutcomes(X, BL):\n",
    "    C_orig_n = []\n",
    "    C_learned_n = []\n",
    "    choice_orig_nk = []\n",
    "    choice_learned_nk = []\n",
    "    choice_orig2_nk = []\n",
    "    choice_learned2_nk = []\n",
    "    for n in range(0, observations): #for n observations build Choice Set and collect choices\n",
    "\n",
    "            #matrix multiply path explanitory variables with the user betas to get a choice set of utilities\n",
    "            C_orig_n.append(list(np.matmul(X[n], np.transpose(userBetaList)))) \n",
    "            #pick path with max utility for each observation n and save the index of that choice\n",
    "            choice_orig_nk.append(C_orig_n[n].index(max(C_orig_n[n])))   \n",
    "\n",
    "            #convert max from list to really negative to then check for 2nd best\n",
    "            C_orig_n[n][choice_orig_nk[n]] = -9999999\n",
    "            choice_orig2_nk.append(C_orig_n[n].index(max(C_orig_n[n]))) \n",
    "\n",
    "            #matrix multiply path explanitory variables with the learned betas to get a choice set of utilities\n",
    "            C_learned_n.append(list(np.matmul(X[n], np.transpose(BL)))) \n",
    "            #pick path with max utility for each observation n and save the index of that choice\n",
    "            choice_learned_nk.append(C_learned_n[n].index(max(C_learned_n[n])))  \n",
    "\n",
    "            #convert max from list to really negative to then check for 2nd best\n",
    "            C_learned_n[n][choice_learned_nk[n]] = -9999999\n",
    "            choice_learned2_nk.append(C_learned_n[n].index(max(C_learned_n[n]))) \n",
    "\n",
    "    match1 = 0\n",
    "    for i in range(0, len(choice_orig_nk)):\n",
    "        if choice_orig_nk[i] == choice_learned_nk[i]:\n",
    "            match1 = match1 + 1\n",
    "\n",
    "    match2 = 0\n",
    "    for i in range(0, len(choice_orig2_nk)):\n",
    "        if choice_orig2_nk[i] == choice_learned2_nk[i]:\n",
    "            match2 = match2 + 1\n",
    "\n",
    "    match3 = 0\n",
    "    for i in range(0, len(choice_orig_nk)):\n",
    "        if choice_orig_nk[i] == choice_learned2_nk[i]:\n",
    "            match3 = match3 + 1\n",
    "\n",
    "    print(choice_orig_nk)  \n",
    "    print(choice_learned_nk)\n",
    "    print('1st best matches to true user betas: %d out of %d\\n%%-of-right: %.1f\\n' % (match1, len(choice_orig_nk), (100*(match1/len(choice_orig_nk)))))\n",
    "\n",
    "#     print(choice_orig2_nk)  \n",
    "#     print(choice_learned2_nk)\n",
    "#     print('2nd best matches to true user betas: %d out of %d\\n' % (match2, len(choice_orig2_nk)))\n",
    "\n",
    "    print(choice_orig_nk)  \n",
    "    print(choice_learned2_nk)\n",
    "    print('2nd best matches compared to 1st best: %d out of %d\\n' % (match3, len(choice_orig2_nk)))\n",
    "    \n",
    "    print('%%-of-right incl first + second: %.1f' % (100*((match1 + match3)/len(choice_orig_nk))))\n",
    "\n",
    "''' calculate likelihood ratio index '''\n",
    "def LiklihoodRatioIndex(X, b_vec, Y_nk):\n",
    "    \n",
    "    v_n_j = np.zeros((observations, numPaths))\n",
    "    g_n = []\n",
    "    ll_n = []\n",
    "    b_vec0 = np.zeros(numBetas)\n",
    "    for n in range(0, observations): #for n observations\n",
    "\n",
    "        #1st partial derivative denominator: e^B'*X_n,j\n",
    "        v_n_j[n] = [np.matmul(X[n][j], b_vec0) for j in range(0, numPaths)]\n",
    "        g_n.append(np.sum([np.exp(v_n_j[n][j]) for j in range(0, numPaths)]))\n",
    "\n",
    "        #log likelihood \n",
    "        ll_n.append(np.log(np.exp(np.matmul(X[n][Y_nk[n]], b_vec0)) / g_n[n]))\n",
    "\n",
    "    ll_0 = np.sum(ll_n)\n",
    "\n",
    "    v_n_j = np.zeros((observations, numPaths))\n",
    "    g_n = []\n",
    "    ll_n = []\n",
    "    b_vecResult = b_vec #b_vec is output of \n",
    "    for n in range(0, observations): #for n observations\n",
    "\n",
    "        #1st partial derivative denominator: e^B'*X_n,j\n",
    "        v_n_j[n] = [np.matmul(X[n][j], b_vecResult) for j in range(0, numPaths)]\n",
    "        g_n.append(np.sum([np.exp(v_n_j[n][j]) for j in range(0, numPaths)]))\n",
    "\n",
    "        #log likelihood \n",
    "        ll_n.append(np.log(np.exp(np.matmul(X[n][Y_nk[n]], b_vecResult)) / g_n[n]))\n",
    "\n",
    "    ll_result = np.sum(ll_n)\n",
    "    print('\\nLL(B) = %.6f' %ll_result)\n",
    "    print('LL(0) = %.6f' %ll_0)\n",
    "    print('LRI: %.4f' %(1 - (ll_result/ll_0)))"
   ]
  },
  {
   "cell_type": "code",
   "execution_count": 11,
   "metadata": {},
   "outputs": [],
   "source": [
    "''' backup explMatrix '''\n",
    "explMatrix_bkup = copy.deepcopy(explMatrix)"
   ]
  },
  {
   "cell_type": "markdown",
   "metadata": {},
   "source": [
    "#### Filter 1 (filter by probability threshold)"
   ]
  },
  {
   "cell_type": "code",
   "execution_count": 12,
   "metadata": {},
   "outputs": [
    {
     "name": "stdout",
     "output_type": "stream",
     "text": [
      "numObs: 100\t probThresh: 0.26206055\n"
     ]
    }
   ],
   "source": [
    "''' recover explMatrix '''\n",
    "explMatrix = copy.deepcopy(explMatrix_bkup)\n",
    "observations = len(explMatrix)\n",
    "\n",
    "''' filter choice probabilites to be above some value '''\n",
    "explMatrix = FilterChoicesProb(userBetaList, explMatrix, 100)\n",
    "observations = len(explMatrix)\n",
    "\n",
    "filterName = 'Probability Filter β_user'"
   ]
  },
  {
   "cell_type": "markdown",
   "metadata": {},
   "source": [
    "#### Filter 2 (filter by random draw)"
   ]
  },
  {
   "cell_type": "code",
   "execution_count": null,
   "metadata": {},
   "outputs": [],
   "source": [
    "''' recover explMatrix '''\n",
    "explMatrix = copy.deepcopy(explMatrix_bkup)\n",
    "observations = len(explMatrix)\n",
    "\n",
    "''' filter choice probabilites to be above some value '''\n",
    "explMatrix = FilterChoicesRand(explMatrix, 100, seed=33)\n",
    "observations = len(explMatrix)\n",
    "\n",
    "filterName = 'Random Filter β_user'"
   ]
  },
  {
   "cell_type": "markdown",
   "metadata": {},
   "source": [
    "#### Filter 3 (no filter)"
   ]
  },
  {
   "cell_type": "code",
   "execution_count": null,
   "metadata": {},
   "outputs": [],
   "source": [
    "''' recover explMatrix '''\n",
    "explMatrix = copy.deepcopy(explMatrix_bkup)\n",
    "observations = len(explMatrix)\n",
    "\n",
    "filterName = 'No Filter β_user'"
   ]
  },
  {
   "cell_type": "markdown",
   "metadata": {},
   "source": [
    "#### Calculate and apply scale factor before running NR"
   ]
  },
  {
   "cell_type": "code",
   "execution_count": 13,
   "metadata": {},
   "outputs": [
    {
     "name": "stdout",
     "output_type": "stream",
     "text": [
      "Average Utility Variance: 0.011095 \n",
      "Scale Factor: 12.1763 \n"
     ]
    }
   ],
   "source": [
    "''' estimate scale factor '''\n",
    "scaleFactor = EstimateScaleFactor(explMatrix)\n",
    "\n",
    "''' apply scale factor '''\n",
    "explMatrixScaled = np.multiply(scaleFactor, explMatrix)"
   ]
  },
  {
   "cell_type": "code",
   "execution_count": 14,
   "metadata": {
    "scrolled": false
   },
   "outputs": [
    {
     "name": "stdout",
     "output_type": "stream",
     "text": [
      "e1: False\n",
      "e2: True\n",
      "e3: False\n",
      "Iteration: 91\t LL: -26.7883\t LL_prime_avg: 0.5961\t Hessian_avg: -87.3820\t\n",
      "e1: 0.00972392\t #e2: 0\t e3_avg: 0.07606869\n"
     ]
    },
    {
     "data": {
      "image/png": "[encoded data removed]",
      "text/plain": [
       "<Figure size 576x432 with 1 Axes>"
      ]
     },
     "metadata": {
      "needs_background": "light"
     },
     "output_type": "display_data"
    },
    {
     "name": "stdout",
     "output_type": "stream",
     "text": [
      "Beta_0: 1.971588\t LL: -26.788291\t LL_prime: -0.155807\t Hessian: -17.092771\n",
      "Beta_1: 0.062685\t LL: -26.788291\t LL_prime: -1.631824\t Hessian: -65.591440\n",
      "Beta_2: 1.084373\t LL: -26.788291\t LL_prime: -0.283285\t Hessian: -56.505027\n",
      "Beta_3: 1.263078\t LL: -26.788291\t LL_prime: 0.279952\t Hessian: -5.560133\n",
      "Beta_4: 1.142599\t LL: -26.788291\t LL_prime: 0.257621\t Hessian: -5.545101\n",
      "Beta_5: 1.263078\t LL: -26.788291\t LL_prime: 0.279952\t Hessian: -5.560133\n",
      "Beta_6: 2.058436\t LL: -26.788291\t LL_prime: 1.719338\t Hessian: -18.899773\n",
      "Beta_7: 0.294527\t LL: -26.788291\t LL_prime: 8.046587\t Hessian: -279.550467\n",
      "Beta_8: 1.357139\t LL: -26.788291\t LL_prime: 2.607800\t Hessian: -43.479299\n",
      "Beta_9: 2.649712\t LL: -26.788291\t LL_prime: 0.006841\t Hessian: -0.907853\n",
      "Beta_10: 1.544315\t LL: -26.788291\t LL_prime: -0.000776\t Hessian: -1.383330\n",
      "Beta_11: 2.768949\t LL: -26.788291\t LL_prime: 0.006546\t Hessian: -0.831348\n",
      "Beta_12: 0.982257\t LL: -26.788291\t LL_prime: 0.719515\t Hessian: -37.035600\n",
      "Beta_13: 0.135515\t LL: -26.788291\t LL_prime: -3.507349\t Hessian: -685.406136\n"
     ]
    }
   ],
   "source": [
    "''' get choice set and run Newton-Raphson '''\n",
    "choice_nk = GetChoiceSet(explMatrixScaled, userBetaList) \n",
    "b_vec = NewtonRaphson(explMatrixScaled, choice_nk, e2=0.1) #Inputs: X, Ynk(dummy variable), e2 convergence criteria"
   ]
  },
  {
   "cell_type": "code",
   "execution_count": 15,
   "metadata": {},
   "outputs": [
    {
     "name": "stdout",
     "output_type": "stream",
     "text": [
      "mean abs error: 0.0342\n"
     ]
    },
    {
     "data": {
      "image/png": "[encoded data removed]",
      "text/plain": [
       "<Figure size 576x432 with 1 Axes>"
      ]
     },
     "metadata": {
      "needs_background": "light"
     },
     "output_type": "display_data"
    }
   ],
   "source": [
    "''' get learned betas '''\n",
    "betaLearnedList = GetLearnedBetas(b_vec, yAxis=0.5, saveFig=False, title=filterName)"
   ]
  },
  {
   "cell_type": "code",
   "execution_count": 16,
   "metadata": {},
   "outputs": [
    {
     "name": "stdout",
     "output_type": "stream",
     "text": [
      "[0, 2, 0, 0, 3, 2, 2, 0, 1, 1, 0, 0, 3, 3, 0, 0, 1, 2, 0, 2, 3, 0, 3, 0, 1, 3, 1, 1, 2, 3, 1, 3, 3, 2, 3, 1, 3, 3, 3, 1, 3, 2, 2, 1, 0, 0, 3, 0, 2, 0, 3, 3, 0, 1, 0, 0, 2, 3, 2, 1, 1, 0, 0, 2, 3, 2, 0, 3, 1, 3, 3, 3, 1, 2, 0, 1, 3, 2, 1, 1, 3, 0, 2, 3, 3, 3, 1, 2, 0, 1, 3, 2, 1, 2, 2, 0, 2, 2, 2, 2]\n",
      "[0, 2, 0, 0, 3, 2, 2, 0, 1, 0, 0, 0, 0, 3, 0, 0, 1, 2, 0, 2, 3, 0, 3, 0, 1, 3, 1, 0, 1, 3, 1, 1, 3, 2, 3, 1, 3, 3, 3, 1, 3, 2, 2, 2, 0, 0, 3, 0, 2, 0, 3, 3, 0, 1, 0, 0, 3, 3, 2, 0, 1, 0, 0, 2, 2, 2, 0, 2, 1, 3, 3, 3, 1, 2, 0, 1, 3, 2, 1, 1, 3, 0, 2, 3, 0, 3, 1, 2, 0, 1, 2, 0, 1, 2, 2, 0, 2, 2, 2, 2]\n",
      "1st best matches to true user betas: 87 out of 100\n",
      "%-of-right: 87.0\n",
      "\n",
      "[0, 2, 0, 0, 3, 2, 2, 0, 1, 1, 0, 0, 3, 3, 0, 0, 1, 2, 0, 2, 3, 0, 3, 0, 1, 3, 1, 1, 2, 3, 1, 3, 3, 2, 3, 1, 3, 3, 3, 1, 3, 2, 2, 1, 0, 0, 3, 0, 2, 0, 3, 3, 0, 1, 0, 0, 2, 3, 2, 1, 1, 0, 0, 2, 3, 2, 0, 3, 1, 3, 3, 3, 1, 2, 0, 1, 3, 2, 1, 1, 3, 0, 2, 3, 3, 3, 1, 2, 0, 1, 3, 2, 1, 2, 2, 0, 2, 2, 2, 2]\n",
      "[1, 1, 3, 2, 0, 0, 1, 3, 3, 1, 3, 1, 3, 1, 3, 2, 3, 1, 2, 0, 1, 1, 2, 1, 2, 0, 0, 2, 2, 2, 0, 0, 0, 0, 2, 2, 2, 1, 0, 3, 1, 3, 3, 3, 3, 3, 1, 2, 0, 1, 2, 0, 3, 2, 1, 3, 2, 0, 1, 1, 3, 1, 1, 0, 3, 3, 3, 3, 0, 0, 0, 2, 2, 1, 3, 0, 0, 3, 2, 2, 0, 2, 3, 0, 3, 0, 3, 3, 3, 2, 3, 3, 2, 3, 3, 2, 0, 3, 1, 1]\n",
      "2nd best matches compared to 1st best: 9 out of 100\n",
      "\n",
      "%-of-right incl first + second: 96.0\n",
      "\n",
      "LL(B) = -26.788291\n",
      "LL(0) = -138.629436\n",
      "LRI: 0.8068\n"
     ]
    }
   ],
   "source": [
    "CompareChoiceOutcomes(explMatrixScaled, betaLearnedList)\n",
    "LiklihoodRatioIndex(explMatrixScaled, b_vec, choice_nk)"
   ]
  },
  {
   "cell_type": "markdown",
   "metadata": {},
   "source": [
    "#### Save Learned Betas"
   ]
  },
  {
   "cell_type": "code",
   "execution_count": 18,
   "metadata": {},
   "outputs": [],
   "source": [
    "# file path for preprocessed dataframes\n",
    "try:\n",
    "    from src.a_star import prep_dataframes  #note: MMWPF path must be added to enviornmental variables PYTHONPATH (see setup.py)\n",
    "    prep_path = prep_dataframes.path()\n",
    "except:\n",
    "    prep_path = os.path.join(\"./\", \"prep_dataframes\")\n",
    "    if not os.path.exists(prep_path):\n",
    "        print('%s path does not exist!' % prep_path)\n",
    "        \n",
    "# save precalculated lst_id to file\n",
    "beta_file_name = os.path.join(prep_path, \"b_user_probability_filter_betas\")\n",
    "try: \n",
    "    geeky_file = open(beta_file_name, 'wb') \n",
    "    pickle.dump(betaLearnedList, geeky_file) \n",
    "    geeky_file.close() \n",
    "except: \n",
    "    print(\"Something went wrong\")"
   ]
  },
  {
   "cell_type": "markdown",
   "metadata": {},
   "source": [
    "### Simulated Survey"
   ]
  },
  {
   "cell_type": "code",
   "execution_count": 19,
   "metadata": {},
   "outputs": [
    {
     "name": "stdout",
     "output_type": "stream",
     "text": [
      "[0.06145807 0.06145807 0.06145807 0.06278244 0.06278244 0.06278244\n",
      " 0.06032759 0.06032759 0.06032759 0.12844515 0.12844515 0.12844515\n",
      " 0.04808456 0.01287571]\n"
     ]
    },
    {
     "data": {
      "image/png": "[encoded data removed]",
      "text/plain": [
       "<Figure size 576x432 with 1 Axes>"
      ]
     },
     "metadata": {
      "needs_background": "light"
     },
     "output_type": "display_data"
    }
   ],
   "source": [
    "''' simulated survey '''\n",
    "userBetaAvg = [np.average(userBetaList[b-2:b+1]) for b in range(0, numBetas-2) if((b % 3) == 2)] #get 3-way averages\n",
    "userBetaAvg.append(userBetaList[-2]) #Nk (number of transfers)\n",
    "userBetaAvg.append(userBetaList[-1]) #Sk (sustainability)\n",
    "\n",
    "userBetaAvgNorm = np.divide(userBetaAvg,np.sum(userBetaAvg))\n",
    "surveyBetaList = []\n",
    "# re-create a 14 element vector: surveyBetaList\n",
    "for i in range(0, len(userBetaAvgNorm)):\n",
    "    if i < 4:\n",
    "        for ii in range(0, 3): #copy userBetaAvgNorm[i] 3 times\n",
    "            surveyBetaList.append(userBetaAvgNorm[i])\n",
    "    else:\n",
    "        surveyBetaList.append(userBetaAvgNorm[i])\n",
    "        \n",
    "surveyBetaList = np.divide(surveyBetaList,np.sum(surveyBetaList)) #normalize surveyBetaList from 0 to 1\n",
    "print(surveyBetaList)\n",
    "PlotBetaComparison(surveyBetaList, 'survey betas', yAxis=0.2)"
   ]
  },
  {
   "cell_type": "markdown",
   "metadata": {},
   "source": [
    "#### Filter 1 (filter by probability threshold)"
   ]
  },
  {
   "cell_type": "code",
   "execution_count": 20,
   "metadata": {},
   "outputs": [
    {
     "name": "stdout",
     "output_type": "stream",
     "text": [
      "numObs: 100\t probThresh: 0.26054687\n"
     ]
    }
   ],
   "source": [
    "''' recover explMatrix '''\n",
    "explMatrix = copy.deepcopy(explMatrix_bkup)\n",
    "observations = len(explMatrix)\n",
    "\n",
    "''' filter choice probabilites to be above some value '''\n",
    "explMatrix = FilterChoicesProb(surveyBetaList, explMatrix, 100)\n",
    "observations = len(explMatrix)\n",
    "\n",
    "filterName = 'Probability Filter β_survey'"
   ]
  },
  {
   "cell_type": "markdown",
   "metadata": {},
   "source": [
    "#### Filter 2 (filter by random draw)"
   ]
  },
  {
   "cell_type": "code",
   "execution_count": null,
   "metadata": {},
   "outputs": [],
   "source": [
    "''' recover explMatrix '''\n",
    "explMatrix = copy.deepcopy(explMatrix_bkup)\n",
    "observations = len(explMatrix)\n",
    "\n",
    "''' filter choice probabilites to be above some value '''\n",
    "explMatrix = FilterChoicesRand(explMatrix, 100, seed=33)\n",
    "observations = len(explMatrix)\n",
    "\n",
    "filterName = 'Random Filter β_survey'"
   ]
  },
  {
   "cell_type": "markdown",
   "metadata": {},
   "source": [
    "#### Filter 3 (no filter)"
   ]
  },
  {
   "cell_type": "code",
   "execution_count": 385,
   "metadata": {},
   "outputs": [],
   "source": [
    "''' recover explMatrix '''\n",
    "explMatrix = copy.deepcopy(explMatrix_bkup)\n",
    "observations = len(explMatrix)\n",
    "\n",
    "filterName = 'No Filter β_survey'"
   ]
  },
  {
   "cell_type": "markdown",
   "metadata": {},
   "source": [
    "#### Calculate and apply scale factor before running NR"
   ]
  },
  {
   "cell_type": "code",
   "execution_count": 21,
   "metadata": {},
   "outputs": [
    {
     "name": "stdout",
     "output_type": "stream",
     "text": [
      "Average Utility Variance: 0.011043 \n",
      "Scale Factor: 12.2046 \n"
     ]
    }
   ],
   "source": [
    "''' estimate scale factor '''\n",
    "scaleFactor = EstimateScaleFactor(explMatrix)\n",
    "\n",
    "''' apply scale factor '''\n",
    "explMatrixScaled = np.multiply(scaleFactor, explMatrix)"
   ]
  },
  {
   "cell_type": "code",
   "execution_count": 22,
   "metadata": {},
   "outputs": [
    {
     "name": "stdout",
     "output_type": "stream",
     "text": [
      "e1: False\n",
      "e2: True\n",
      "e3: False\n",
      "Iteration: 74\t LL: -30.4330\t LL_prime_avg: 0.9322\t Hessian_avg: -116.4339\t\n",
      "e1: 0.01362045\t #e2: 0\t e3_avg: 0.23659166\n"
     ]
    },
    {
     "data": {
      "image/png": "[encoded data removed]",
      "text/plain": [
       "<Figure size 576x432 with 1 Axes>"
      ]
     },
     "metadata": {
      "needs_background": "light"
     },
     "output_type": "display_data"
    },
    {
     "name": "stdout",
     "output_type": "stream",
     "text": [
      "Beta_0: 1.508174\t LL: -30.432962\t LL_prime: -0.431630\t Hessian: -23.809348\n",
      "Beta_1: 0.082211\t LL: -30.432962\t LL_prime: -2.291358\t Hessian: -91.739740\n",
      "Beta_2: 0.829496\t LL: -30.432962\t LL_prime: -0.784782\t Hessian: -78.708589\n",
      "Beta_3: 0.752128\t LL: -30.432962\t LL_prime: 1.104142\t Hessian: -24.021398\n",
      "Beta_4: 0.730591\t LL: -30.432962\t LL_prime: 1.083625\t Hessian: -24.030109\n",
      "Beta_5: 0.752128\t LL: -30.432962\t LL_prime: 1.104142\t Hessian: -24.021398\n",
      "Beta_6: 1.782705\t LL: -30.432962\t LL_prime: 2.331809\t Hessian: -22.315342\n",
      "Beta_7: 0.289792\t LL: -30.432962\t LL_prime: 11.000404\t Hessian: -322.623596\n",
      "Beta_8: 1.175348\t LL: -30.432962\t LL_prime: 3.536763\t Hessian: -51.336883\n",
      "Beta_9: 2.543876\t LL: -30.432962\t LL_prime: -0.023711\t Hessian: -0.426846\n",
      "Beta_10: 0.534305\t LL: -30.432962\t LL_prime: -0.061664\t Hessian: -0.599408\n",
      "Beta_11: 2.658351\t LL: -30.432962\t LL_prime: -0.022690\t Hessian: -0.390876\n",
      "Beta_12: 0.879684\t LL: -30.432962\t LL_prime: 0.807915\t Hessian: -42.769436\n",
      "Beta_13: 0.168148\t LL: -30.432962\t LL_prime: -4.302222\t Hessian: -923.281179\n"
     ]
    }
   ],
   "source": [
    "''' get choice set and run Newton-Raphson '''\n",
    "choice_nk = GetChoiceSet(explMatrixScaled, surveyBetaList) \n",
    "b_vec = NewtonRaphson(explMatrixScaled, choice_nk, e2=0.1) #Inputs: X, Ynk(dummy variable), e2 convergence criteria"
   ]
  },
  {
   "cell_type": "code",
   "execution_count": 23,
   "metadata": {},
   "outputs": [
    {
     "name": "stdout",
     "output_type": "stream",
     "text": [
      "mean abs error: 0.0441\n"
     ]
    },
    {
     "data": {
      "image/png": "[encoded data removed]",
      "text/plain": [
       "<Figure size 576x432 with 1 Axes>"
      ]
     },
     "metadata": {
      "needs_background": "light"
     },
     "output_type": "display_data"
    }
   ],
   "source": [
    "''' get learned betas '''\n",
    "betaLearnedList = GetLearnedBetas(b_vec, yAxis=0.5, saveFig=False, title=filterName)"
   ]
  },
  {
   "cell_type": "code",
   "execution_count": 24,
   "metadata": {},
   "outputs": [
    {
     "name": "stdout",
     "output_type": "stream",
     "text": [
      "[0, 2, 0, 0, 3, 2, 2, 0, 1, 1, 0, 0, 3, 3, 0, 0, 1, 2, 0, 2, 3, 0, 3, 0, 1, 3, 1, 1, 2, 3, 1, 3, 3, 2, 3, 1, 3, 3, 3, 1, 3, 2, 2, 1, 0, 0, 3, 0, 2, 0, 3, 3, 0, 1, 0, 0, 2, 3, 0, 2, 1, 1, 0, 0, 2, 3, 2, 0, 3, 1, 3, 3, 3, 1, 2, 0, 1, 3, 2, 1, 1, 3, 0, 2, 3, 3, 1, 2, 0, 1, 3, 2, 1, 2, 2, 0, 2, 2, 2, 2]\n",
      "[0, 2, 0, 0, 3, 0, 2, 0, 1, 0, 0, 0, 0, 3, 0, 0, 1, 2, 0, 2, 3, 0, 3, 0, 1, 3, 1, 2, 1, 3, 1, 1, 3, 2, 2, 1, 3, 3, 3, 1, 3, 2, 2, 3, 0, 0, 3, 0, 2, 0, 3, 3, 0, 1, 0, 0, 3, 3, 0, 1, 2, 1, 0, 0, 2, 2, 2, 0, 2, 1, 3, 3, 3, 1, 2, 0, 1, 3, 2, 1, 1, 3, 0, 2, 3, 0, 1, 3, 0, 1, 2, 0, 1, 2, 2, 0, 2, 2, 2, 2]\n",
      "1st best matches to true user betas: 83 out of 100\n",
      "%-of-right: 83.0\n",
      "\n",
      "[0, 2, 0, 0, 3, 2, 2, 0, 1, 1, 0, 0, 3, 3, 0, 0, 1, 2, 0, 2, 3, 0, 3, 0, 1, 3, 1, 1, 2, 3, 1, 3, 3, 2, 3, 1, 3, 3, 3, 1, 3, 2, 2, 1, 0, 0, 3, 0, 2, 0, 3, 3, 0, 1, 0, 0, 2, 3, 0, 2, 1, 1, 0, 0, 2, 3, 2, 0, 3, 1, 3, 3, 3, 1, 2, 0, 1, 3, 2, 1, 1, 3, 0, 2, 3, 3, 1, 2, 0, 1, 3, 2, 1, 2, 2, 0, 2, 2, 2, 2]\n",
      "[1, 1, 3, 2, 0, 2, 0, 3, 0, 1, 3, 1, 3, 1, 3, 2, 3, 1, 2, 0, 1, 1, 2, 1, 2, 0, 0, 0, 2, 1, 0, 0, 0, 0, 3, 2, 2, 1, 0, 3, 1, 3, 3, 2, 3, 3, 1, 2, 0, 1, 2, 0, 3, 2, 1, 3, 2, 0, 3, 2, 0, 3, 1, 1, 0, 3, 3, 1, 3, 0, 0, 0, 2, 2, 1, 3, 0, 0, 3, 2, 2, 0, 2, 3, 0, 3, 3, 2, 3, 2, 3, 3, 2, 3, 3, 2, 1, 3, 1, 1]\n",
      "2nd best matches compared to 1st best: 12 out of 100\n",
      "\n",
      "%-of-right incl first + second: 95.0\n",
      "\n",
      "LL(B) = -30.432962\n",
      "LL(0) = -138.629436\n",
      "LRI: 0.7805\n"
     ]
    }
   ],
   "source": [
    "CompareChoiceOutcomes(explMatrixScaled, betaLearnedList)\n",
    "LiklihoodRatioIndex(explMatrixScaled, b_vec, choice_nk)"
   ]
  },
  {
   "cell_type": "markdown",
   "metadata": {},
   "source": [
    "#### Save Learned Betas"
   ]
  },
  {
   "cell_type": "code",
   "execution_count": 25,
   "metadata": {},
   "outputs": [],
   "source": [
    "# file path for preprocessed dataframes\n",
    "try:\n",
    "    from src.a_star import prep_dataframes  #note: MMWPF path must be added to enviornmental variables PYTHONPATH (see setup.py)\n",
    "    prep_path = prep_dataframes.path()\n",
    "except:\n",
    "    prep_path = os.path.join(\"./\", \"prep_dataframes\")\n",
    "    if not os.path.exists(prep_path):\n",
    "        print('%s path does not exist!' % prep_path)\n",
    "\n",
    "# save precalculated lst_id to file\n",
    "beta_file_name = os.path.join(prep_path, \"b_survey_probability_filter_betas\")\n",
    "try: \n",
    "    geeky_file = open(beta_file_name, 'wb') \n",
    "    pickle.dump(betaLearnedList, geeky_file) \n",
    "    geeky_file.close() \n",
    "except: \n",
    "    print(\"Something went wrong\")"
   ]
  }
 ],
 "metadata": {
  "kernelspec": {
   "display_name": "python38",
   "language": "python",
   "name": "python38"
  },
  "language_info": {
   "codemirror_mode": {
    "name": "ipython",
    "version": 3
   },
   "file_extension": ".py",
   "mimetype": "text/x-python",
   "name": "python",
   "nbconvert_exporter": "python",
   "pygments_lexer": "ipython3",
   "version": "3.8.5"
  }
 },
 "nbformat": 4,
 "nbformat_minor": 2
}
